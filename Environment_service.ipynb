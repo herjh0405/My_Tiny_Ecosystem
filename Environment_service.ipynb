{
 "cells": [
  {
   "cell_type": "markdown",
   "metadata": {},
   "source": [
    "# 🐿 나의 작은 생태계\n",
    "\n",
    "---\n",
    "## 개요\n",
    "환경빅데이터플랫폼 혁신서비스 아이디어 공모전 ( 2021.01.27 ~ 02.17 ) \n",
    "\n",
    "* 스마트폰 사용 시간이 점점 늘어가는 아이들을 위해 야외활동을 유발하는 서비스\n",
    "\n",
    "     * 우리집 주변의 동물, 조류, 곤충 등의 서식지와 정보를 알려줌\n",
    "     \n",
    "* 팀원 : `허정훈`,  `구원혁`, `민성훈`, `진효정`"
   ]
  },
  {
   "cell_type": "markdown",
   "metadata": {},
   "source": [
    "* 필요 라이브러리 설치"
   ]
  },
  {
   "cell_type": "code",
   "execution_count": 1,
   "metadata": {},
   "outputs": [
    {
     "name": "stdout",
     "output_type": "stream",
     "text": [
      "Collecting package metadata (current_repodata.json): ...working... done\n",
      "Solving environment: ...working... done\n",
      "\n",
      "# All requested packages already installed.\n",
      "\n",
      "Collecting package metadata (current_repodata.json): ...working... done\n",
      "Solving environment: ...working... done\n",
      "\n",
      "# All requested packages already installed.\n",
      "\n",
      "Requirement already satisfied: wikipedia-API in c:\\users\\82103\\anaconda3\\lib\\site-packages (0.5.4)\n",
      "Requirement already satisfied: requests in c:\\users\\82103\\anaconda3\\lib\\site-packages (from wikipedia-API) (2.24.0)\n"
     ]
    },
    {
     "name": "stderr",
     "output_type": "stream",
     "text": [
      "WARNING: Error parsing requirements for jpype1: [Errno 2] No such file or directory: 'c:\\\\users\\\\82103\\\\anaconda3\\\\lib\\\\site-packages\\\\JPype1-1.2.1.dist-info\\\\METADATA'\n",
      "WARNING: You are using pip version 20.3.3; however, version 21.0.1 is available."
     ]
    },
    {
     "name": "stdout",
     "output_type": "stream",
     "text": [
      "Requirement already satisfied: certifi>=2017.4.17 in c:\\users\\82103\\anaconda3\\lib\\site-packages (from requests->wikipedia-API) (2020.6.20)\n",
      "Requirement already satisfied: urllib3!=1.25.0,!=1.25.1,<1.26,>=1.21.1 in c:\\users\\82103\\anaconda3\\lib\\site-packages (from requests->wikipedia-API) (1.25.9)\n",
      "Requirement already satisfied: idna<3,>=2.5 in c:\\users\\82103\\anaconda3\\lib\\site-packages (from requests->wikipedia-API) (2.10)\n",
      "Requirement already satisfied: chardet<4,>=3.0.2 in c:\\users\\82103\\anaconda3\\lib\\site-packages (from requests->wikipedia-API) (3.0.4)\n"
     ]
    },
    {
     "name": "stderr",
     "output_type": "stream",
     "text": [
      "\n",
      "You should consider upgrading via the 'c:\\users\\82103\\anaconda3\\python.exe -m pip install --upgrade pip' command.\n"
     ]
    }
   ],
   "source": [
    "!conda install -c conda-forge pyproj\n",
    "!conda install -c conda-forge haversine\n",
    "!pip install wikipedia-API"
   ]
  },
  {
   "cell_type": "code",
   "execution_count": 2,
   "metadata": {
    "scrolled": true
   },
   "outputs": [],
   "source": [
    "import folium\n",
    "import pandas as pd\n",
    "from pyproj import Proj, transform\n",
    "from haversine import haversine\n",
    "import decimal\n",
    "import warnings\n",
    "warnings.filterwarnings('ignore')"
   ]
  },
  {
   "cell_type": "markdown",
   "metadata": {},
   "source": [
    "## 데이터\n",
    "* 데이터 출처 :  환경빅데이터플랫폼 [link]((https://www.bigdata-environment.kr/user/data_market/list.do))\n",
    "* 50만개 정도의 곤충, 포유류, 조류 등의 동물 데이터가 있습니다.\n",
    "* 그 종의 종명, 학명, 서식지 좌표 등의 데이터로 이루어져 있습니다."
   ]
  },
  {
   "cell_type": "code",
   "execution_count": 3,
   "metadata": {},
   "outputs": [],
   "source": [
    "df_ins = pd.read_csv('./data/202011_자연환경조사_곤충_점.csv')\n",
    "df_rep = pd.read_csv('./data/202011_자연환경조사_양서파충류_점.csv')\n",
    "df_spi = pd.read_csv('./data/202011_자연환경조사_저서무척추동물_점.csv')\n",
    "df_bird = pd.read_csv('./data/202011_자연환경조사_조류_점.csv')\n",
    "df_mam = pd.read_csv('./data/202011_자연환경조사_포유류_점.csv')"
   ]
  },
  {
   "cell_type": "code",
   "execution_count": 4,
   "metadata": {},
   "outputs": [],
   "source": [
    "df_ins = df_ins[['spce_id','examin_realm_se_code_nm','spcs_lcnm','spcs_scncenm','geom']].copy()\n",
    "df_rep = df_rep[['spce_id','examin_realm_se_code_nm','spcs_lcnm','spcs_scncenm','geom']].copy()\n",
    "df_spi = df_spi[['spce_id','examin_realm_se_code_nm','spcs_lcnm','spcs_scncenm','geom']].copy()\n",
    "df_bird = df_bird[['spce_id','examin_realm_se_code_nm','spcs_lcnm','spcs_scncenm','geom']].copy()\n",
    "df_mam = df_mam[['spce_id','examin_realm_se_code_nm','spcs_lcnm','spcs_scncenm','geom']].copy()"
   ]
  },
  {
   "cell_type": "code",
   "execution_count": 5,
   "metadata": {
    "scrolled": true
   },
   "outputs": [
    {
     "data": {
      "text/html": [
       "<div>\n",
       "<style scoped>\n",
       "    .dataframe tbody tr th:only-of-type {\n",
       "        vertical-align: middle;\n",
       "    }\n",
       "\n",
       "    .dataframe tbody tr th {\n",
       "        vertical-align: top;\n",
       "    }\n",
       "\n",
       "    .dataframe thead th {\n",
       "        text-align: right;\n",
       "    }\n",
       "</style>\n",
       "<table border=\"1\" class=\"dataframe\">\n",
       "  <thead>\n",
       "    <tr style=\"text-align: right;\">\n",
       "      <th></th>\n",
       "      <th>spce_id</th>\n",
       "      <th>examin_realm_se_code_nm</th>\n",
       "      <th>spcs_lcnm</th>\n",
       "      <th>spcs_scncenm</th>\n",
       "      <th>geom</th>\n",
       "    </tr>\n",
       "  </thead>\n",
       "  <tbody>\n",
       "    <tr>\n",
       "      <th>0</th>\n",
       "      <td>9000000000549745</td>\n",
       "      <td>포유류</td>\n",
       "      <td>너구리</td>\n",
       "      <td>Nyctereutes procyonoides (Gray, 1834)</td>\n",
       "      <td>POINT (149858.01580000017 495400.6850000005)</td>\n",
       "    </tr>\n",
       "    <tr>\n",
       "      <th>1</th>\n",
       "      <td>9000000000549747</td>\n",
       "      <td>포유류</td>\n",
       "      <td>고라니</td>\n",
       "      <td>Hydropotes inermis Swinhoe, 1870</td>\n",
       "      <td>POINT (149734.41930000018 495408.1886999998)</td>\n",
       "    </tr>\n",
       "    <tr>\n",
       "      <th>2</th>\n",
       "      <td>9000000000549748</td>\n",
       "      <td>포유류</td>\n",
       "      <td>고라니</td>\n",
       "      <td>Hydropotes inermis Swinhoe, 1870</td>\n",
       "      <td>POINT (149494.92399999965 495431.14650000073)</td>\n",
       "    </tr>\n",
       "    <tr>\n",
       "      <th>3</th>\n",
       "      <td>9000000000549750</td>\n",
       "      <td>포유류</td>\n",
       "      <td>멧돼지</td>\n",
       "      <td>Sus scrofa Linnaeus, 1758</td>\n",
       "      <td>POINT (217427.9857999999 263351.8610999994)</td>\n",
       "    </tr>\n",
       "    <tr>\n",
       "      <th>4</th>\n",
       "      <td>9000000000549752</td>\n",
       "      <td>포유류</td>\n",
       "      <td>고라니</td>\n",
       "      <td>Hydropotes inermis Swinhoe, 1870</td>\n",
       "      <td>POINT (220471.97030000016 263481.4341000002)</td>\n",
       "    </tr>\n",
       "  </tbody>\n",
       "</table>\n",
       "</div>"
      ],
      "text/plain": [
       "            spce_id examin_realm_se_code_nm spcs_lcnm  \\\n",
       "0  9000000000549745                     포유류       너구리   \n",
       "1  9000000000549747                     포유류       고라니   \n",
       "2  9000000000549748                     포유류       고라니   \n",
       "3  9000000000549750                     포유류       멧돼지   \n",
       "4  9000000000549752                     포유류       고라니   \n",
       "\n",
       "                            spcs_scncenm  \\\n",
       "0  Nyctereutes procyonoides (Gray, 1834)   \n",
       "1       Hydropotes inermis Swinhoe, 1870   \n",
       "2       Hydropotes inermis Swinhoe, 1870   \n",
       "3              Sus scrofa Linnaeus, 1758   \n",
       "4       Hydropotes inermis Swinhoe, 1870   \n",
       "\n",
       "                                            geom  \n",
       "0   POINT (149858.01580000017 495400.6850000005)  \n",
       "1   POINT (149734.41930000018 495408.1886999998)  \n",
       "2  POINT (149494.92399999965 495431.14650000073)  \n",
       "3    POINT (217427.9857999999 263351.8610999994)  \n",
       "4   POINT (220471.97030000016 263481.4341000002)  "
      ]
     },
     "execution_count": 5,
     "metadata": {},
     "output_type": "execute_result"
    }
   ],
   "source": [
    "df_mam.head()"
   ]
  },
  {
   "cell_type": "markdown",
   "metadata": {},
   "source": [
    "* 우리가 흔히 쓰는 경위도가 형태가 아니기 때문에 우리가 쓰기 좋은 형태로 전처리"
   ]
  },
  {
   "cell_type": "code",
   "execution_count": 6,
   "metadata": {},
   "outputs": [],
   "source": [
    "df_ins['lati'] = df_ins['geom'].apply(lambda x: decimal.Decimal(x.split(' ')[2].replace(')', '')))\n",
    "df_ins['long'] = df_ins['geom'].apply(lambda x: decimal.Decimal(x.split(' ')[1].replace('(', '')))\n",
    "\n",
    "df_rep['lati'] = df_rep['geom'].apply(lambda x: decimal.Decimal(x.split(' ')[2].replace(')', '')))\n",
    "df_rep['long'] = df_rep['geom'].apply(lambda x: decimal.Decimal(x.split(' ')[1].replace('(', '')))\n",
    "\n",
    "df_spi['lati'] = df_spi['geom'].apply(lambda x: decimal.Decimal(x.split(' ')[2].replace(')', '')))\n",
    "df_spi['long'] = df_spi['geom'].apply(lambda x: decimal.Decimal(x.split(' ')[1].replace('(', '')))\n",
    "\n",
    "df_bird['lati'] = df_bird['geom'].apply(lambda x: decimal.Decimal(x.split(' ')[2].replace(')', '')))\n",
    "df_bird['long'] = df_bird['geom'].apply(lambda x: decimal.Decimal(x.split(' ')[1].replace('(', '')))\n",
    "\n",
    "df_mam['lati'] = df_mam['geom'].apply(lambda x: decimal.Decimal(x.split(' ')[2].replace(')', '')))\n",
    "df_mam['long'] = df_mam['geom'].apply(lambda x: decimal.Decimal(x.split(' ')[1].replace('(', '')))"
   ]
  },
  {
   "cell_type": "code",
   "execution_count": 7,
   "metadata": {},
   "outputs": [
    {
     "data": {
      "text/html": [
       "<div>\n",
       "<style scoped>\n",
       "    .dataframe tbody tr th:only-of-type {\n",
       "        vertical-align: middle;\n",
       "    }\n",
       "\n",
       "    .dataframe tbody tr th {\n",
       "        vertical-align: top;\n",
       "    }\n",
       "\n",
       "    .dataframe thead th {\n",
       "        text-align: right;\n",
       "    }\n",
       "</style>\n",
       "<table border=\"1\" class=\"dataframe\">\n",
       "  <thead>\n",
       "    <tr style=\"text-align: right;\">\n",
       "      <th></th>\n",
       "      <th>spce_id</th>\n",
       "      <th>examin_realm_se_code_nm</th>\n",
       "      <th>spcs_lcnm</th>\n",
       "      <th>spcs_scncenm</th>\n",
       "      <th>geom</th>\n",
       "      <th>lati</th>\n",
       "      <th>long</th>\n",
       "    </tr>\n",
       "  </thead>\n",
       "  <tbody>\n",
       "    <tr>\n",
       "      <th>0</th>\n",
       "      <td>5000000001325505</td>\n",
       "      <td>곤충</td>\n",
       "      <td>좀남색잎벌레</td>\n",
       "      <td>Gastrophysa atrocyanea Motschulsky, 1860</td>\n",
       "      <td>POINT (141724.9611999998 427724.3739)</td>\n",
       "      <td>427724.3739</td>\n",
       "      <td>141724.9611999998</td>\n",
       "    </tr>\n",
       "    <tr>\n",
       "      <th>1</th>\n",
       "      <td>5000000001493544</td>\n",
       "      <td>곤충</td>\n",
       "      <td>좀남색잎벌레</td>\n",
       "      <td>Gastrophysa atrocyanea Motschulsky, 1860</td>\n",
       "      <td>POINT (159314.02529999986 94114.0251000002)</td>\n",
       "      <td>94114.0251000002</td>\n",
       "      <td>159314.02529999986</td>\n",
       "    </tr>\n",
       "    <tr>\n",
       "      <th>2</th>\n",
       "      <td>5000000001335750</td>\n",
       "      <td>곤충</td>\n",
       "      <td>좀남색잎벌레</td>\n",
       "      <td>Gastrophysa atrocyanea Motschulsky, 1860</td>\n",
       "      <td>POINT (234776.7951999996 344101.1821999997)</td>\n",
       "      <td>344101.1821999997</td>\n",
       "      <td>234776.7951999996</td>\n",
       "    </tr>\n",
       "    <tr>\n",
       "      <th>3</th>\n",
       "      <td>5000000001464084</td>\n",
       "      <td>곤충</td>\n",
       "      <td>좀남색잎벌레</td>\n",
       "      <td>Gastrophysa atrocyanea Motschulsky, 1860</td>\n",
       "      <td>POINT (182054.65479999967 354509.0923999995)</td>\n",
       "      <td>354509.0923999995</td>\n",
       "      <td>182054.65479999967</td>\n",
       "    </tr>\n",
       "    <tr>\n",
       "      <th>4</th>\n",
       "      <td>5000000001365572</td>\n",
       "      <td>곤충</td>\n",
       "      <td>좀남색잎벌레</td>\n",
       "      <td>Gastrophysa atrocyanea Motschulsky, 1860</td>\n",
       "      <td>POINT (228545.61799999978 349336.3881999999)</td>\n",
       "      <td>349336.3881999999</td>\n",
       "      <td>228545.61799999978</td>\n",
       "    </tr>\n",
       "  </tbody>\n",
       "</table>\n",
       "</div>"
      ],
      "text/plain": [
       "            spce_id examin_realm_se_code_nm spcs_lcnm  \\\n",
       "0  5000000001325505                      곤충    좀남색잎벌레   \n",
       "1  5000000001493544                      곤충    좀남색잎벌레   \n",
       "2  5000000001335750                      곤충    좀남색잎벌레   \n",
       "3  5000000001464084                      곤충    좀남색잎벌레   \n",
       "4  5000000001365572                      곤충    좀남색잎벌레   \n",
       "\n",
       "                               spcs_scncenm  \\\n",
       "0  Gastrophysa atrocyanea Motschulsky, 1860   \n",
       "1  Gastrophysa atrocyanea Motschulsky, 1860   \n",
       "2  Gastrophysa atrocyanea Motschulsky, 1860   \n",
       "3  Gastrophysa atrocyanea Motschulsky, 1860   \n",
       "4  Gastrophysa atrocyanea Motschulsky, 1860   \n",
       "\n",
       "                                           geom               lati  \\\n",
       "0         POINT (141724.9611999998 427724.3739)        427724.3739   \n",
       "1   POINT (159314.02529999986 94114.0251000002)   94114.0251000002   \n",
       "2   POINT (234776.7951999996 344101.1821999997)  344101.1821999997   \n",
       "3  POINT (182054.65479999967 354509.0923999995)  354509.0923999995   \n",
       "4  POINT (228545.61799999978 349336.3881999999)  349336.3881999999   \n",
       "\n",
       "                 long  \n",
       "0   141724.9611999998  \n",
       "1  159314.02529999986  \n",
       "2   234776.7951999996  \n",
       "3  182054.65479999967  \n",
       "4  228545.61799999978  "
      ]
     },
     "execution_count": 7,
     "metadata": {},
     "output_type": "execute_result"
    }
   ],
   "source": [
    "df_ins.head(5)"
   ]
  },
  {
   "cell_type": "markdown",
   "metadata": {},
   "source": [
    "* 곤충~동물까지 모두 데이터 병합"
   ]
  },
  {
   "cell_type": "code",
   "execution_count": 8,
   "metadata": {},
   "outputs": [],
   "source": [
    "df_all = pd.concat([df_ins, df_rep, df_spi, df_bird, df_mam]).copy()\n",
    "df_all = df_all[['spce_id','examin_realm_se_code_nm','spcs_lcnm','spcs_scncenm','lati','long',]].reset_index(drop=True)"
   ]
  },
  {
   "cell_type": "markdown",
   "metadata": {},
   "source": [
    "## 좌표 변환\n",
    "\n",
    "* 국토지리정보원 표준 좌표계(중부원점 EPSG : 5186)인 좌표계를 GPS가 사용하는 좌표계인 EPSG : 4236로 변환 시켜 줌 - PyProj 라이브러리 사용"
   ]
  },
  {
   "cell_type": "code",
   "execution_count": 9,
   "metadata": {},
   "outputs": [],
   "source": [
    "inProj = Proj(init='epsg:5186')\n",
    "outProj = Proj(init='epsg:4326')\n",
    "\n",
    "kr_long, kr_lati = transform(inProj,outProj, list(df_all['lati']), list(df_all['long']))\n",
    "\n",
    "df_all['kr_lati'] = kr_lati\n",
    "df_all['kr_long'] = kr_long"
   ]
  },
  {
   "cell_type": "code",
   "execution_count": 10,
   "metadata": {
    "scrolled": true
   },
   "outputs": [
    {
     "data": {
      "text/html": [
       "<div>\n",
       "<style scoped>\n",
       "    .dataframe tbody tr th:only-of-type {\n",
       "        vertical-align: middle;\n",
       "    }\n",
       "\n",
       "    .dataframe tbody tr th {\n",
       "        vertical-align: top;\n",
       "    }\n",
       "\n",
       "    .dataframe thead th {\n",
       "        text-align: right;\n",
       "    }\n",
       "</style>\n",
       "<table border=\"1\" class=\"dataframe\">\n",
       "  <thead>\n",
       "    <tr style=\"text-align: right;\">\n",
       "      <th></th>\n",
       "      <th>spce_id</th>\n",
       "      <th>examin_realm_se_code_nm</th>\n",
       "      <th>spcs_lcnm</th>\n",
       "      <th>spcs_scncenm</th>\n",
       "      <th>lati</th>\n",
       "      <th>long</th>\n",
       "      <th>kr_lati</th>\n",
       "      <th>kr_long</th>\n",
       "    </tr>\n",
       "  </thead>\n",
       "  <tbody>\n",
       "    <tr>\n",
       "      <th>0</th>\n",
       "      <td>5000000001325505</td>\n",
       "      <td>곤충</td>\n",
       "      <td>좀남색잎벌레</td>\n",
       "      <td>Gastrophysa atrocyanea Motschulsky, 1860</td>\n",
       "      <td>427724.3739</td>\n",
       "      <td>141724.9611999998</td>\n",
       "      <td>33.845273</td>\n",
       "      <td>129.460214</td>\n",
       "    </tr>\n",
       "    <tr>\n",
       "      <th>1</th>\n",
       "      <td>5000000001493544</td>\n",
       "      <td>곤충</td>\n",
       "      <td>좀남색잎벌레</td>\n",
       "      <td>Gastrophysa atrocyanea Motschulsky, 1860</td>\n",
       "      <td>94114.0251000002</td>\n",
       "      <td>159314.02529999986</td>\n",
       "      <td>34.023060</td>\n",
       "      <td>125.853578</td>\n",
       "    </tr>\n",
       "    <tr>\n",
       "      <th>2</th>\n",
       "      <td>5000000001335750</td>\n",
       "      <td>곤충</td>\n",
       "      <td>좀남색잎벌레</td>\n",
       "      <td>Gastrophysa atrocyanea Motschulsky, 1860</td>\n",
       "      <td>344101.1821999997</td>\n",
       "      <td>234776.7951999996</td>\n",
       "      <td>34.698533</td>\n",
       "      <td>128.572714</td>\n",
       "    </tr>\n",
       "    <tr>\n",
       "      <th>3</th>\n",
       "      <td>5000000001464084</td>\n",
       "      <td>곤충</td>\n",
       "      <td>좀남색잎벌레</td>\n",
       "      <td>Gastrophysa atrocyanea Motschulsky, 1860</td>\n",
       "      <td>354509.0923999995</td>\n",
       "      <td>182054.65479999967</td>\n",
       "      <td>34.221949</td>\n",
       "      <td>128.676737</td>\n",
       "    </tr>\n",
       "    <tr>\n",
       "      <th>4</th>\n",
       "      <td>5000000001365572</td>\n",
       "      <td>곤충</td>\n",
       "      <td>좀남색잎벌레</td>\n",
       "      <td>Gastrophysa atrocyanea Motschulsky, 1860</td>\n",
       "      <td>349336.3881999999</td>\n",
       "      <td>228545.61799999978</td>\n",
       "      <td>34.641635</td>\n",
       "      <td>128.628731</td>\n",
       "    </tr>\n",
       "  </tbody>\n",
       "</table>\n",
       "</div>"
      ],
      "text/plain": [
       "            spce_id examin_realm_se_code_nm spcs_lcnm  \\\n",
       "0  5000000001325505                      곤충    좀남색잎벌레   \n",
       "1  5000000001493544                      곤충    좀남색잎벌레   \n",
       "2  5000000001335750                      곤충    좀남색잎벌레   \n",
       "3  5000000001464084                      곤충    좀남색잎벌레   \n",
       "4  5000000001365572                      곤충    좀남색잎벌레   \n",
       "\n",
       "                               spcs_scncenm               lati  \\\n",
       "0  Gastrophysa atrocyanea Motschulsky, 1860        427724.3739   \n",
       "1  Gastrophysa atrocyanea Motschulsky, 1860   94114.0251000002   \n",
       "2  Gastrophysa atrocyanea Motschulsky, 1860  344101.1821999997   \n",
       "3  Gastrophysa atrocyanea Motschulsky, 1860  354509.0923999995   \n",
       "4  Gastrophysa atrocyanea Motschulsky, 1860  349336.3881999999   \n",
       "\n",
       "                 long    kr_lati     kr_long  \n",
       "0   141724.9611999998  33.845273  129.460214  \n",
       "1  159314.02529999986  34.023060  125.853578  \n",
       "2   234776.7951999996  34.698533  128.572714  \n",
       "3  182054.65479999967  34.221949  128.676737  \n",
       "4  228545.61799999978  34.641635  128.628731  "
      ]
     },
     "execution_count": 10,
     "metadata": {},
     "output_type": "execute_result"
    }
   ],
   "source": [
    "df_all.head()"
   ]
  },
  {
   "cell_type": "markdown",
   "metadata": {},
   "source": [
    "## 유저 정보 입력\n",
    "\n",
    "* 유저가 원하는 경위도와 반경 입력\n",
    "    * 부산대학교와 3km 이내의 동물들을 찾아본다 - haversine 라이브러리 사용"
   ]
  },
  {
   "cell_type": "code",
   "execution_count": 11,
   "metadata": {},
   "outputs": [
    {
     "name": "stdout",
     "output_type": "stream",
     "text": [
      "35.233512, 129.0722714\n"
     ]
    }
   ],
   "source": [
    "#  user = (35.233512, 129.0722714)\n",
    "user = list(map(decimal.Decimal, input().split(',')))\n",
    "# 유저의 경위도에서 0.5도 이상씩 벌어지는 데이터는 제외\n",
    "df_want = df_all[(user[0]-decimal.Decimal(0.5) < df_all['kr_lati']) & (user[0]+decimal.Decimal(0.5) > df_all['kr_lati'])& (user[1]+decimal.Decimal(0.5) > df_all['kr_long'])& (\n",
    "    user[1]+decimal.Decimal(0.5) > df_all['kr_long'])].reset_index(drop=True)\n",
    "\n",
    "want_list = []\n",
    "for i in df_want.index:\n",
    "    if haversine(user, (df_want['kr_lati'][i], df_want['kr_long'][i]), unit = 'km') <= 3:\n",
    "        want_list.append(i)\n",
    "        \n",
    "df_find = df_want.loc[want_list].copy()"
   ]
  },
  {
   "cell_type": "code",
   "execution_count": 12,
   "metadata": {},
   "outputs": [],
   "source": [
    "df_find = df_find[['spce_id','examin_realm_se_code_nm','spcs_lcnm','spcs_scncenm','kr_lati','kr_long',]]"
   ]
  },
  {
   "cell_type": "code",
   "execution_count": 13,
   "metadata": {},
   "outputs": [
    {
     "data": {
      "text/html": [
       "<div>\n",
       "<style scoped>\n",
       "    .dataframe tbody tr th:only-of-type {\n",
       "        vertical-align: middle;\n",
       "    }\n",
       "\n",
       "    .dataframe tbody tr th {\n",
       "        vertical-align: top;\n",
       "    }\n",
       "\n",
       "    .dataframe thead th {\n",
       "        text-align: right;\n",
       "    }\n",
       "</style>\n",
       "<table border=\"1\" class=\"dataframe\">\n",
       "  <thead>\n",
       "    <tr style=\"text-align: right;\">\n",
       "      <th></th>\n",
       "      <th>spce_id</th>\n",
       "      <th>examin_realm_se_code_nm</th>\n",
       "      <th>spcs_lcnm</th>\n",
       "      <th>spcs_scncenm</th>\n",
       "      <th>kr_lati</th>\n",
       "      <th>kr_long</th>\n",
       "    </tr>\n",
       "  </thead>\n",
       "  <tbody>\n",
       "    <tr>\n",
       "      <th>565</th>\n",
       "      <td>5000000001349650</td>\n",
       "      <td>곤충</td>\n",
       "      <td>어리별쌍살벌</td>\n",
       "      <td>Polistes mandarinus Saussure, 1853</td>\n",
       "      <td>35.244446</td>\n",
       "      <td>129.049596</td>\n",
       "    </tr>\n",
       "    <tr>\n",
       "      <th>614</th>\n",
       "      <td>5000000001349610</td>\n",
       "      <td>곤충</td>\n",
       "      <td>별쌍살벌</td>\n",
       "      <td>Polistes snelleni Saussure, 1862</td>\n",
       "      <td>35.244446</td>\n",
       "      <td>129.049596</td>\n",
       "    </tr>\n",
       "    <tr>\n",
       "      <th>619</th>\n",
       "      <td>5000000001349646</td>\n",
       "      <td>곤충</td>\n",
       "      <td>별쌍살벌</td>\n",
       "      <td>Polistes snelleni Saussure, 1862</td>\n",
       "      <td>35.244446</td>\n",
       "      <td>129.049596</td>\n",
       "    </tr>\n",
       "    <tr>\n",
       "      <th>761</th>\n",
       "      <td>5000000001349645</td>\n",
       "      <td>곤충</td>\n",
       "      <td>민호리병벌</td>\n",
       "      <td>Eumenes rubronotatus P?ez, 1905</td>\n",
       "      <td>35.244446</td>\n",
       "      <td>129.049596</td>\n",
       "    </tr>\n",
       "    <tr>\n",
       "      <th>884</th>\n",
       "      <td>5000000001347826</td>\n",
       "      <td>곤충</td>\n",
       "      <td>알락하늘소</td>\n",
       "      <td>Anoplophora chinensis (F?ster), 1771</td>\n",
       "      <td>35.252430</td>\n",
       "      <td>129.083013</td>\n",
       "    </tr>\n",
       "  </tbody>\n",
       "</table>\n",
       "</div>"
      ],
      "text/plain": [
       "              spce_id examin_realm_se_code_nm spcs_lcnm  \\\n",
       "565  5000000001349650                      곤충    어리별쌍살벌   \n",
       "614  5000000001349610                      곤충      별쌍살벌   \n",
       "619  5000000001349646                      곤충      별쌍살벌   \n",
       "761  5000000001349645                      곤충     민호리병벌   \n",
       "884  5000000001347826                      곤충     알락하늘소   \n",
       "\n",
       "                             spcs_scncenm    kr_lati     kr_long  \n",
       "565    Polistes mandarinus Saussure, 1853  35.244446  129.049596  \n",
       "614      Polistes snelleni Saussure, 1862  35.244446  129.049596  \n",
       "619      Polistes snelleni Saussure, 1862  35.244446  129.049596  \n",
       "761       Eumenes rubronotatus P?ez, 1905  35.244446  129.049596  \n",
       "884  Anoplophora chinensis (F?ster), 1771  35.252430  129.083013  "
      ]
     },
     "execution_count": 13,
     "metadata": {},
     "output_type": "execute_result"
    }
   ],
   "source": [
    "df_find.head()"
   ]
  },
  {
   "cell_type": "markdown",
   "metadata": {},
   "source": [
    "## 시각화\n",
    "* 곤충 : 노란색,\n",
    "  양서파충류 : 파란색,\n",
    "  저서무척추동물 : 빨간색,\n",
    "  조류 : 자주색,\n",
    "  포유류 : 초록색\n",
    "    * 원하는 마커를 클릭하면, 종과 이름, 사진 시각화 -> 더 알아보기 클릭 시 해당동물의 위키피디아 정보 제공"
   ]
  },
  {
   "cell_type": "code",
   "execution_count": 14,
   "metadata": {},
   "outputs": [],
   "source": [
    "import wikipediaapi\n",
    "import requests\n",
    "import json\n",
    "\n",
    "# Json으로 부터 이미지 파일 불러오는 함수\n",
    "def get_wiki_main_image(title):\n",
    "    url = 'https://ko.wikipedia.org/w/api.php'\n",
    "    data = {\n",
    "        'action' :'query',\n",
    "        'format' : 'json',\n",
    "        'formatversion' : 2,\n",
    "        'prop' : 'pageimages|pageterms',\n",
    "        'piprop' : 'original',\n",
    "        'titles' : title\n",
    "    }\n",
    "    response = requests.get(url, data, verify=False)\n",
    "    json_data = json.loads(response.text)\n",
    "    return json_data['query']['pages'][0]['original']['source'] if len(json_data['query']['pages']) >0 else 'Not found'\n",
    "\n",
    "wiki=wikipediaapi.Wikipedia('ko') # 한국어 세팅\n",
    "wiki_dic = {} # Wikipedia페이지를 저장할 딕셔너리 -> 추후 중복데이터의 로딩시간을 절약\n",
    "img_dic = {} # 이미지 링크를 저장할 딕셔너리 -> 동일"
   ]
  },
  {
   "cell_type": "markdown",
   "metadata": {},
   "source": [
    "* 위키백과 API세팅"
   ]
  },
  {
   "cell_type": "code",
   "execution_count": 16,
   "metadata": {
    "scrolled": true
   },
   "outputs": [
    {
     "ename": "KeyboardInterrupt",
     "evalue": "",
     "output_type": "error",
     "traceback": [
      "\u001b[1;31m---------------------------------------------------------------------------\u001b[0m",
      "\u001b[1;31mKeyboardInterrupt\u001b[0m                         Traceback (most recent call last)",
      "\u001b[1;32m<ipython-input-16-46f6493f0490>\u001b[0m in \u001b[0;36m<module>\u001b[1;34m\u001b[0m\n\u001b[0;32m     18\u001b[0m     \u001b[1;32mif\u001b[0m \u001b[0mpage_wiki\u001b[0m\u001b[1;33m.\u001b[0m\u001b[0mexists\u001b[0m\u001b[1;33m(\u001b[0m\u001b[1;33m)\u001b[0m \u001b[1;33m==\u001b[0m \u001b[1;32mTrue\u001b[0m \u001b[1;33m:\u001b[0m\u001b[1;33m\u001b[0m\u001b[1;33m\u001b[0m\u001b[0m\n\u001b[0;32m     19\u001b[0m         \u001b[1;32mif\u001b[0m \u001b[1;33m(\u001b[0m\u001b[0mpage_wiki\u001b[0m\u001b[1;33m.\u001b[0m\u001b[0mtitle\u001b[0m \u001b[1;32mnot\u001b[0m \u001b[1;32min\u001b[0m \u001b[0mimg_dic\u001b[0m\u001b[1;33m.\u001b[0m\u001b[0mvalues\u001b[0m\u001b[1;33m(\u001b[0m\u001b[1;33m)\u001b[0m\u001b[1;33m)\u001b[0m \u001b[1;33m:\u001b[0m\u001b[1;33m\u001b[0m\u001b[1;33m\u001b[0m\u001b[0m\n\u001b[1;32m---> 20\u001b[1;33m             \u001b[0mwiki_img\u001b[0m \u001b[1;33m=\u001b[0m \u001b[0mget_wiki_main_image\u001b[0m\u001b[1;33m(\u001b[0m\u001b[0mpage_wiki\u001b[0m\u001b[1;33m.\u001b[0m\u001b[0mtitle\u001b[0m\u001b[1;33m)\u001b[0m\u001b[1;33m\u001b[0m\u001b[1;33m\u001b[0m\u001b[0m\n\u001b[0m\u001b[0;32m     21\u001b[0m             \u001b[0mimg_dic\u001b[0m\u001b[1;33m[\u001b[0m\u001b[0mpage_wiki\u001b[0m\u001b[1;33m.\u001b[0m\u001b[0mtitle\u001b[0m\u001b[1;33m]\u001b[0m \u001b[1;33m=\u001b[0m \u001b[0mwiki_img\u001b[0m\u001b[1;33m\u001b[0m\u001b[1;33m\u001b[0m\u001b[0m\n\u001b[0;32m     22\u001b[0m         \u001b[1;32melse\u001b[0m \u001b[1;33m:\u001b[0m \u001b[0mwiki_img\u001b[0m\u001b[1;33m[\u001b[0m\u001b[0mpage_wiki\u001b[0m\u001b[1;33m.\u001b[0m\u001b[0mtitle\u001b[0m\u001b[1;33m]\u001b[0m\u001b[1;33m\u001b[0m\u001b[1;33m\u001b[0m\u001b[0m\n",
      "\u001b[1;32m<ipython-input-14-3448faaf2e5a>\u001b[0m in \u001b[0;36mget_wiki_main_image\u001b[1;34m(title)\u001b[0m\n\u001b[0;32m     14\u001b[0m         \u001b[1;34m'titles'\u001b[0m \u001b[1;33m:\u001b[0m \u001b[0mtitle\u001b[0m\u001b[1;33m\u001b[0m\u001b[1;33m\u001b[0m\u001b[0m\n\u001b[0;32m     15\u001b[0m     }\n\u001b[1;32m---> 16\u001b[1;33m     \u001b[0mresponse\u001b[0m \u001b[1;33m=\u001b[0m \u001b[0mrequests\u001b[0m\u001b[1;33m.\u001b[0m\u001b[0mget\u001b[0m\u001b[1;33m(\u001b[0m\u001b[0murl\u001b[0m\u001b[1;33m,\u001b[0m \u001b[0mdata\u001b[0m\u001b[1;33m,\u001b[0m \u001b[0mverify\u001b[0m\u001b[1;33m=\u001b[0m\u001b[1;32mFalse\u001b[0m\u001b[1;33m)\u001b[0m\u001b[1;33m\u001b[0m\u001b[1;33m\u001b[0m\u001b[0m\n\u001b[0m\u001b[0;32m     17\u001b[0m     \u001b[0mjson_data\u001b[0m \u001b[1;33m=\u001b[0m \u001b[0mjson\u001b[0m\u001b[1;33m.\u001b[0m\u001b[0mloads\u001b[0m\u001b[1;33m(\u001b[0m\u001b[0mresponse\u001b[0m\u001b[1;33m.\u001b[0m\u001b[0mtext\u001b[0m\u001b[1;33m)\u001b[0m\u001b[1;33m\u001b[0m\u001b[1;33m\u001b[0m\u001b[0m\n\u001b[0;32m     18\u001b[0m     \u001b[1;32mreturn\u001b[0m \u001b[0mjson_data\u001b[0m\u001b[1;33m[\u001b[0m\u001b[1;34m'query'\u001b[0m\u001b[1;33m]\u001b[0m\u001b[1;33m[\u001b[0m\u001b[1;34m'pages'\u001b[0m\u001b[1;33m]\u001b[0m\u001b[1;33m[\u001b[0m\u001b[1;36m0\u001b[0m\u001b[1;33m]\u001b[0m\u001b[1;33m[\u001b[0m\u001b[1;34m'original'\u001b[0m\u001b[1;33m]\u001b[0m\u001b[1;33m[\u001b[0m\u001b[1;34m'source'\u001b[0m\u001b[1;33m]\u001b[0m \u001b[1;32mif\u001b[0m \u001b[0mlen\u001b[0m\u001b[1;33m(\u001b[0m\u001b[0mjson_data\u001b[0m\u001b[1;33m[\u001b[0m\u001b[1;34m'query'\u001b[0m\u001b[1;33m]\u001b[0m\u001b[1;33m[\u001b[0m\u001b[1;34m'pages'\u001b[0m\u001b[1;33m]\u001b[0m\u001b[1;33m)\u001b[0m \u001b[1;33m>\u001b[0m\u001b[1;36m0\u001b[0m \u001b[1;32melse\u001b[0m \u001b[1;34m'Not found'\u001b[0m\u001b[1;33m\u001b[0m\u001b[1;33m\u001b[0m\u001b[0m\n",
      "\u001b[1;32m~\\anaconda3\\lib\\site-packages\\requests\\api.py\u001b[0m in \u001b[0;36mget\u001b[1;34m(url, params, **kwargs)\u001b[0m\n\u001b[0;32m     74\u001b[0m \u001b[1;33m\u001b[0m\u001b[0m\n\u001b[0;32m     75\u001b[0m     \u001b[0mkwargs\u001b[0m\u001b[1;33m.\u001b[0m\u001b[0msetdefault\u001b[0m\u001b[1;33m(\u001b[0m\u001b[1;34m'allow_redirects'\u001b[0m\u001b[1;33m,\u001b[0m \u001b[1;32mTrue\u001b[0m\u001b[1;33m)\u001b[0m\u001b[1;33m\u001b[0m\u001b[1;33m\u001b[0m\u001b[0m\n\u001b[1;32m---> 76\u001b[1;33m     \u001b[1;32mreturn\u001b[0m \u001b[0mrequest\u001b[0m\u001b[1;33m(\u001b[0m\u001b[1;34m'get'\u001b[0m\u001b[1;33m,\u001b[0m \u001b[0murl\u001b[0m\u001b[1;33m,\u001b[0m \u001b[0mparams\u001b[0m\u001b[1;33m=\u001b[0m\u001b[0mparams\u001b[0m\u001b[1;33m,\u001b[0m \u001b[1;33m**\u001b[0m\u001b[0mkwargs\u001b[0m\u001b[1;33m)\u001b[0m\u001b[1;33m\u001b[0m\u001b[1;33m\u001b[0m\u001b[0m\n\u001b[0m\u001b[0;32m     77\u001b[0m \u001b[1;33m\u001b[0m\u001b[0m\n\u001b[0;32m     78\u001b[0m \u001b[1;33m\u001b[0m\u001b[0m\n",
      "\u001b[1;32m~\\anaconda3\\lib\\site-packages\\requests\\api.py\u001b[0m in \u001b[0;36mrequest\u001b[1;34m(method, url, **kwargs)\u001b[0m\n\u001b[0;32m     59\u001b[0m     \u001b[1;31m# cases, and look like a memory leak in others.\u001b[0m\u001b[1;33m\u001b[0m\u001b[1;33m\u001b[0m\u001b[1;33m\u001b[0m\u001b[0m\n\u001b[0;32m     60\u001b[0m     \u001b[1;32mwith\u001b[0m \u001b[0msessions\u001b[0m\u001b[1;33m.\u001b[0m\u001b[0mSession\u001b[0m\u001b[1;33m(\u001b[0m\u001b[1;33m)\u001b[0m \u001b[1;32mas\u001b[0m \u001b[0msession\u001b[0m\u001b[1;33m:\u001b[0m\u001b[1;33m\u001b[0m\u001b[1;33m\u001b[0m\u001b[0m\n\u001b[1;32m---> 61\u001b[1;33m         \u001b[1;32mreturn\u001b[0m \u001b[0msession\u001b[0m\u001b[1;33m.\u001b[0m\u001b[0mrequest\u001b[0m\u001b[1;33m(\u001b[0m\u001b[0mmethod\u001b[0m\u001b[1;33m=\u001b[0m\u001b[0mmethod\u001b[0m\u001b[1;33m,\u001b[0m \u001b[0murl\u001b[0m\u001b[1;33m=\u001b[0m\u001b[0murl\u001b[0m\u001b[1;33m,\u001b[0m \u001b[1;33m**\u001b[0m\u001b[0mkwargs\u001b[0m\u001b[1;33m)\u001b[0m\u001b[1;33m\u001b[0m\u001b[1;33m\u001b[0m\u001b[0m\n\u001b[0m\u001b[0;32m     62\u001b[0m \u001b[1;33m\u001b[0m\u001b[0m\n\u001b[0;32m     63\u001b[0m \u001b[1;33m\u001b[0m\u001b[0m\n",
      "\u001b[1;32m~\\anaconda3\\lib\\site-packages\\requests\\sessions.py\u001b[0m in \u001b[0;36mrequest\u001b[1;34m(self, method, url, params, data, headers, cookies, files, auth, timeout, allow_redirects, proxies, hooks, stream, verify, cert, json)\u001b[0m\n\u001b[0;32m    528\u001b[0m         }\n\u001b[0;32m    529\u001b[0m         \u001b[0msend_kwargs\u001b[0m\u001b[1;33m.\u001b[0m\u001b[0mupdate\u001b[0m\u001b[1;33m(\u001b[0m\u001b[0msettings\u001b[0m\u001b[1;33m)\u001b[0m\u001b[1;33m\u001b[0m\u001b[1;33m\u001b[0m\u001b[0m\n\u001b[1;32m--> 530\u001b[1;33m         \u001b[0mresp\u001b[0m \u001b[1;33m=\u001b[0m \u001b[0mself\u001b[0m\u001b[1;33m.\u001b[0m\u001b[0msend\u001b[0m\u001b[1;33m(\u001b[0m\u001b[0mprep\u001b[0m\u001b[1;33m,\u001b[0m \u001b[1;33m**\u001b[0m\u001b[0msend_kwargs\u001b[0m\u001b[1;33m)\u001b[0m\u001b[1;33m\u001b[0m\u001b[1;33m\u001b[0m\u001b[0m\n\u001b[0m\u001b[0;32m    531\u001b[0m \u001b[1;33m\u001b[0m\u001b[0m\n\u001b[0;32m    532\u001b[0m         \u001b[1;32mreturn\u001b[0m \u001b[0mresp\u001b[0m\u001b[1;33m\u001b[0m\u001b[1;33m\u001b[0m\u001b[0m\n",
      "\u001b[1;32m~\\anaconda3\\lib\\site-packages\\requests\\sessions.py\u001b[0m in \u001b[0;36msend\u001b[1;34m(self, request, **kwargs)\u001b[0m\n\u001b[0;32m    641\u001b[0m \u001b[1;33m\u001b[0m\u001b[0m\n\u001b[0;32m    642\u001b[0m         \u001b[1;31m# Send the request\u001b[0m\u001b[1;33m\u001b[0m\u001b[1;33m\u001b[0m\u001b[1;33m\u001b[0m\u001b[0m\n\u001b[1;32m--> 643\u001b[1;33m         \u001b[0mr\u001b[0m \u001b[1;33m=\u001b[0m \u001b[0madapter\u001b[0m\u001b[1;33m.\u001b[0m\u001b[0msend\u001b[0m\u001b[1;33m(\u001b[0m\u001b[0mrequest\u001b[0m\u001b[1;33m,\u001b[0m \u001b[1;33m**\u001b[0m\u001b[0mkwargs\u001b[0m\u001b[1;33m)\u001b[0m\u001b[1;33m\u001b[0m\u001b[1;33m\u001b[0m\u001b[0m\n\u001b[0m\u001b[0;32m    644\u001b[0m \u001b[1;33m\u001b[0m\u001b[0m\n\u001b[0;32m    645\u001b[0m         \u001b[1;31m# Total elapsed time of the request (approximately)\u001b[0m\u001b[1;33m\u001b[0m\u001b[1;33m\u001b[0m\u001b[1;33m\u001b[0m\u001b[0m\n",
      "\u001b[1;32m~\\anaconda3\\lib\\site-packages\\requests\\adapters.py\u001b[0m in \u001b[0;36msend\u001b[1;34m(self, request, stream, timeout, verify, cert, proxies)\u001b[0m\n\u001b[0;32m    437\u001b[0m         \u001b[1;32mtry\u001b[0m\u001b[1;33m:\u001b[0m\u001b[1;33m\u001b[0m\u001b[1;33m\u001b[0m\u001b[0m\n\u001b[0;32m    438\u001b[0m             \u001b[1;32mif\u001b[0m \u001b[1;32mnot\u001b[0m \u001b[0mchunked\u001b[0m\u001b[1;33m:\u001b[0m\u001b[1;33m\u001b[0m\u001b[1;33m\u001b[0m\u001b[0m\n\u001b[1;32m--> 439\u001b[1;33m                 resp = conn.urlopen(\n\u001b[0m\u001b[0;32m    440\u001b[0m                     \u001b[0mmethod\u001b[0m\u001b[1;33m=\u001b[0m\u001b[0mrequest\u001b[0m\u001b[1;33m.\u001b[0m\u001b[0mmethod\u001b[0m\u001b[1;33m,\u001b[0m\u001b[1;33m\u001b[0m\u001b[1;33m\u001b[0m\u001b[0m\n\u001b[0;32m    441\u001b[0m                     \u001b[0murl\u001b[0m\u001b[1;33m=\u001b[0m\u001b[0murl\u001b[0m\u001b[1;33m,\u001b[0m\u001b[1;33m\u001b[0m\u001b[1;33m\u001b[0m\u001b[0m\n",
      "\u001b[1;32m~\\anaconda3\\lib\\site-packages\\urllib3\\connectionpool.py\u001b[0m in \u001b[0;36murlopen\u001b[1;34m(self, method, url, body, headers, retries, redirect, assert_same_host, timeout, pool_timeout, release_conn, chunked, body_pos, **response_kw)\u001b[0m\n\u001b[0;32m    668\u001b[0m \u001b[1;33m\u001b[0m\u001b[0m\n\u001b[0;32m    669\u001b[0m             \u001b[1;31m# Make the request on the httplib connection object.\u001b[0m\u001b[1;33m\u001b[0m\u001b[1;33m\u001b[0m\u001b[1;33m\u001b[0m\u001b[0m\n\u001b[1;32m--> 670\u001b[1;33m             httplib_response = self._make_request(\n\u001b[0m\u001b[0;32m    671\u001b[0m                 \u001b[0mconn\u001b[0m\u001b[1;33m,\u001b[0m\u001b[1;33m\u001b[0m\u001b[1;33m\u001b[0m\u001b[0m\n\u001b[0;32m    672\u001b[0m                 \u001b[0mmethod\u001b[0m\u001b[1;33m,\u001b[0m\u001b[1;33m\u001b[0m\u001b[1;33m\u001b[0m\u001b[0m\n",
      "\u001b[1;32m~\\anaconda3\\lib\\site-packages\\urllib3\\connectionpool.py\u001b[0m in \u001b[0;36m_make_request\u001b[1;34m(self, conn, method, url, timeout, chunked, **httplib_request_kw)\u001b[0m\n\u001b[0;32m    424\u001b[0m                     \u001b[1;31m# Python 3 (including for exceptions like SystemExit).\u001b[0m\u001b[1;33m\u001b[0m\u001b[1;33m\u001b[0m\u001b[1;33m\u001b[0m\u001b[0m\n\u001b[0;32m    425\u001b[0m                     \u001b[1;31m# Otherwise it looks like a bug in the code.\u001b[0m\u001b[1;33m\u001b[0m\u001b[1;33m\u001b[0m\u001b[1;33m\u001b[0m\u001b[0m\n\u001b[1;32m--> 426\u001b[1;33m                     \u001b[0msix\u001b[0m\u001b[1;33m.\u001b[0m\u001b[0mraise_from\u001b[0m\u001b[1;33m(\u001b[0m\u001b[0me\u001b[0m\u001b[1;33m,\u001b[0m \u001b[1;32mNone\u001b[0m\u001b[1;33m)\u001b[0m\u001b[1;33m\u001b[0m\u001b[1;33m\u001b[0m\u001b[0m\n\u001b[0m\u001b[0;32m    427\u001b[0m         \u001b[1;32mexcept\u001b[0m \u001b[1;33m(\u001b[0m\u001b[0mSocketTimeout\u001b[0m\u001b[1;33m,\u001b[0m \u001b[0mBaseSSLError\u001b[0m\u001b[1;33m,\u001b[0m \u001b[0mSocketError\u001b[0m\u001b[1;33m)\u001b[0m \u001b[1;32mas\u001b[0m \u001b[0me\u001b[0m\u001b[1;33m:\u001b[0m\u001b[1;33m\u001b[0m\u001b[1;33m\u001b[0m\u001b[0m\n\u001b[0;32m    428\u001b[0m             \u001b[0mself\u001b[0m\u001b[1;33m.\u001b[0m\u001b[0m_raise_timeout\u001b[0m\u001b[1;33m(\u001b[0m\u001b[0merr\u001b[0m\u001b[1;33m=\u001b[0m\u001b[0me\u001b[0m\u001b[1;33m,\u001b[0m \u001b[0murl\u001b[0m\u001b[1;33m=\u001b[0m\u001b[0murl\u001b[0m\u001b[1;33m,\u001b[0m \u001b[0mtimeout_value\u001b[0m\u001b[1;33m=\u001b[0m\u001b[0mread_timeout\u001b[0m\u001b[1;33m)\u001b[0m\u001b[1;33m\u001b[0m\u001b[1;33m\u001b[0m\u001b[0m\n",
      "\u001b[1;32m~\\anaconda3\\lib\\site-packages\\urllib3\\packages\\six.py\u001b[0m in \u001b[0;36mraise_from\u001b[1;34m(value, from_value)\u001b[0m\n",
      "\u001b[1;32m~\\anaconda3\\lib\\site-packages\\urllib3\\connectionpool.py\u001b[0m in \u001b[0;36m_make_request\u001b[1;34m(self, conn, method, url, timeout, chunked, **httplib_request_kw)\u001b[0m\n\u001b[0;32m    419\u001b[0m                 \u001b[1;31m# Python 3\u001b[0m\u001b[1;33m\u001b[0m\u001b[1;33m\u001b[0m\u001b[1;33m\u001b[0m\u001b[0m\n\u001b[0;32m    420\u001b[0m                 \u001b[1;32mtry\u001b[0m\u001b[1;33m:\u001b[0m\u001b[1;33m\u001b[0m\u001b[1;33m\u001b[0m\u001b[0m\n\u001b[1;32m--> 421\u001b[1;33m                     \u001b[0mhttplib_response\u001b[0m \u001b[1;33m=\u001b[0m \u001b[0mconn\u001b[0m\u001b[1;33m.\u001b[0m\u001b[0mgetresponse\u001b[0m\u001b[1;33m(\u001b[0m\u001b[1;33m)\u001b[0m\u001b[1;33m\u001b[0m\u001b[1;33m\u001b[0m\u001b[0m\n\u001b[0m\u001b[0;32m    422\u001b[0m                 \u001b[1;32mexcept\u001b[0m \u001b[0mBaseException\u001b[0m \u001b[1;32mas\u001b[0m \u001b[0me\u001b[0m\u001b[1;33m:\u001b[0m\u001b[1;33m\u001b[0m\u001b[1;33m\u001b[0m\u001b[0m\n\u001b[0;32m    423\u001b[0m                     \u001b[1;31m# Remove the TypeError from the exception chain in\u001b[0m\u001b[1;33m\u001b[0m\u001b[1;33m\u001b[0m\u001b[1;33m\u001b[0m\u001b[0m\n",
      "\u001b[1;32m~\\anaconda3\\lib\\http\\client.py\u001b[0m in \u001b[0;36mgetresponse\u001b[1;34m(self)\u001b[0m\n\u001b[0;32m   1330\u001b[0m         \u001b[1;32mtry\u001b[0m\u001b[1;33m:\u001b[0m\u001b[1;33m\u001b[0m\u001b[1;33m\u001b[0m\u001b[0m\n\u001b[0;32m   1331\u001b[0m             \u001b[1;32mtry\u001b[0m\u001b[1;33m:\u001b[0m\u001b[1;33m\u001b[0m\u001b[1;33m\u001b[0m\u001b[0m\n\u001b[1;32m-> 1332\u001b[1;33m                 \u001b[0mresponse\u001b[0m\u001b[1;33m.\u001b[0m\u001b[0mbegin\u001b[0m\u001b[1;33m(\u001b[0m\u001b[1;33m)\u001b[0m\u001b[1;33m\u001b[0m\u001b[1;33m\u001b[0m\u001b[0m\n\u001b[0m\u001b[0;32m   1333\u001b[0m             \u001b[1;32mexcept\u001b[0m \u001b[0mConnectionError\u001b[0m\u001b[1;33m:\u001b[0m\u001b[1;33m\u001b[0m\u001b[1;33m\u001b[0m\u001b[0m\n\u001b[0;32m   1334\u001b[0m                 \u001b[0mself\u001b[0m\u001b[1;33m.\u001b[0m\u001b[0mclose\u001b[0m\u001b[1;33m(\u001b[0m\u001b[1;33m)\u001b[0m\u001b[1;33m\u001b[0m\u001b[1;33m\u001b[0m\u001b[0m\n",
      "\u001b[1;32m~\\anaconda3\\lib\\http\\client.py\u001b[0m in \u001b[0;36mbegin\u001b[1;34m(self)\u001b[0m\n\u001b[0;32m    301\u001b[0m         \u001b[1;31m# read until we get a non-100 response\u001b[0m\u001b[1;33m\u001b[0m\u001b[1;33m\u001b[0m\u001b[1;33m\u001b[0m\u001b[0m\n\u001b[0;32m    302\u001b[0m         \u001b[1;32mwhile\u001b[0m \u001b[1;32mTrue\u001b[0m\u001b[1;33m:\u001b[0m\u001b[1;33m\u001b[0m\u001b[1;33m\u001b[0m\u001b[0m\n\u001b[1;32m--> 303\u001b[1;33m             \u001b[0mversion\u001b[0m\u001b[1;33m,\u001b[0m \u001b[0mstatus\u001b[0m\u001b[1;33m,\u001b[0m \u001b[0mreason\u001b[0m \u001b[1;33m=\u001b[0m \u001b[0mself\u001b[0m\u001b[1;33m.\u001b[0m\u001b[0m_read_status\u001b[0m\u001b[1;33m(\u001b[0m\u001b[1;33m)\u001b[0m\u001b[1;33m\u001b[0m\u001b[1;33m\u001b[0m\u001b[0m\n\u001b[0m\u001b[0;32m    304\u001b[0m             \u001b[1;32mif\u001b[0m \u001b[0mstatus\u001b[0m \u001b[1;33m!=\u001b[0m \u001b[0mCONTINUE\u001b[0m\u001b[1;33m:\u001b[0m\u001b[1;33m\u001b[0m\u001b[1;33m\u001b[0m\u001b[0m\n\u001b[0;32m    305\u001b[0m                 \u001b[1;32mbreak\u001b[0m\u001b[1;33m\u001b[0m\u001b[1;33m\u001b[0m\u001b[0m\n",
      "\u001b[1;32m~\\anaconda3\\lib\\http\\client.py\u001b[0m in \u001b[0;36m_read_status\u001b[1;34m(self)\u001b[0m\n\u001b[0;32m    262\u001b[0m \u001b[1;33m\u001b[0m\u001b[0m\n\u001b[0;32m    263\u001b[0m     \u001b[1;32mdef\u001b[0m \u001b[0m_read_status\u001b[0m\u001b[1;33m(\u001b[0m\u001b[0mself\u001b[0m\u001b[1;33m)\u001b[0m\u001b[1;33m:\u001b[0m\u001b[1;33m\u001b[0m\u001b[1;33m\u001b[0m\u001b[0m\n\u001b[1;32m--> 264\u001b[1;33m         \u001b[0mline\u001b[0m \u001b[1;33m=\u001b[0m \u001b[0mstr\u001b[0m\u001b[1;33m(\u001b[0m\u001b[0mself\u001b[0m\u001b[1;33m.\u001b[0m\u001b[0mfp\u001b[0m\u001b[1;33m.\u001b[0m\u001b[0mreadline\u001b[0m\u001b[1;33m(\u001b[0m\u001b[0m_MAXLINE\u001b[0m \u001b[1;33m+\u001b[0m \u001b[1;36m1\u001b[0m\u001b[1;33m)\u001b[0m\u001b[1;33m,\u001b[0m \u001b[1;34m\"iso-8859-1\"\u001b[0m\u001b[1;33m)\u001b[0m\u001b[1;33m\u001b[0m\u001b[1;33m\u001b[0m\u001b[0m\n\u001b[0m\u001b[0;32m    265\u001b[0m         \u001b[1;32mif\u001b[0m \u001b[0mlen\u001b[0m\u001b[1;33m(\u001b[0m\u001b[0mline\u001b[0m\u001b[1;33m)\u001b[0m \u001b[1;33m>\u001b[0m \u001b[0m_MAXLINE\u001b[0m\u001b[1;33m:\u001b[0m\u001b[1;33m\u001b[0m\u001b[1;33m\u001b[0m\u001b[0m\n\u001b[0;32m    266\u001b[0m             \u001b[1;32mraise\u001b[0m \u001b[0mLineTooLong\u001b[0m\u001b[1;33m(\u001b[0m\u001b[1;34m\"status line\"\u001b[0m\u001b[1;33m)\u001b[0m\u001b[1;33m\u001b[0m\u001b[1;33m\u001b[0m\u001b[0m\n",
      "\u001b[1;32m~\\anaconda3\\lib\\socket.py\u001b[0m in \u001b[0;36mreadinto\u001b[1;34m(self, b)\u001b[0m\n\u001b[0;32m    667\u001b[0m         \u001b[1;32mwhile\u001b[0m \u001b[1;32mTrue\u001b[0m\u001b[1;33m:\u001b[0m\u001b[1;33m\u001b[0m\u001b[1;33m\u001b[0m\u001b[0m\n\u001b[0;32m    668\u001b[0m             \u001b[1;32mtry\u001b[0m\u001b[1;33m:\u001b[0m\u001b[1;33m\u001b[0m\u001b[1;33m\u001b[0m\u001b[0m\n\u001b[1;32m--> 669\u001b[1;33m                 \u001b[1;32mreturn\u001b[0m \u001b[0mself\u001b[0m\u001b[1;33m.\u001b[0m\u001b[0m_sock\u001b[0m\u001b[1;33m.\u001b[0m\u001b[0mrecv_into\u001b[0m\u001b[1;33m(\u001b[0m\u001b[0mb\u001b[0m\u001b[1;33m)\u001b[0m\u001b[1;33m\u001b[0m\u001b[1;33m\u001b[0m\u001b[0m\n\u001b[0m\u001b[0;32m    670\u001b[0m             \u001b[1;32mexcept\u001b[0m \u001b[0mtimeout\u001b[0m\u001b[1;33m:\u001b[0m\u001b[1;33m\u001b[0m\u001b[1;33m\u001b[0m\u001b[0m\n\u001b[0;32m    671\u001b[0m                 \u001b[0mself\u001b[0m\u001b[1;33m.\u001b[0m\u001b[0m_timeout_occurred\u001b[0m \u001b[1;33m=\u001b[0m \u001b[1;32mTrue\u001b[0m\u001b[1;33m\u001b[0m\u001b[1;33m\u001b[0m\u001b[0m\n",
      "\u001b[1;32m~\\anaconda3\\lib\\ssl.py\u001b[0m in \u001b[0;36mrecv_into\u001b[1;34m(self, buffer, nbytes, flags)\u001b[0m\n\u001b[0;32m   1239\u001b[0m                   \u001b[1;34m\"non-zero flags not allowed in calls to recv_into() on %s\"\u001b[0m \u001b[1;33m%\u001b[0m\u001b[1;33m\u001b[0m\u001b[1;33m\u001b[0m\u001b[0m\n\u001b[0;32m   1240\u001b[0m                   self.__class__)\n\u001b[1;32m-> 1241\u001b[1;33m             \u001b[1;32mreturn\u001b[0m \u001b[0mself\u001b[0m\u001b[1;33m.\u001b[0m\u001b[0mread\u001b[0m\u001b[1;33m(\u001b[0m\u001b[0mnbytes\u001b[0m\u001b[1;33m,\u001b[0m \u001b[0mbuffer\u001b[0m\u001b[1;33m)\u001b[0m\u001b[1;33m\u001b[0m\u001b[1;33m\u001b[0m\u001b[0m\n\u001b[0m\u001b[0;32m   1242\u001b[0m         \u001b[1;32melse\u001b[0m\u001b[1;33m:\u001b[0m\u001b[1;33m\u001b[0m\u001b[1;33m\u001b[0m\u001b[0m\n\u001b[0;32m   1243\u001b[0m             \u001b[1;32mreturn\u001b[0m \u001b[0msuper\u001b[0m\u001b[1;33m(\u001b[0m\u001b[1;33m)\u001b[0m\u001b[1;33m.\u001b[0m\u001b[0mrecv_into\u001b[0m\u001b[1;33m(\u001b[0m\u001b[0mbuffer\u001b[0m\u001b[1;33m,\u001b[0m \u001b[0mnbytes\u001b[0m\u001b[1;33m,\u001b[0m \u001b[0mflags\u001b[0m\u001b[1;33m)\u001b[0m\u001b[1;33m\u001b[0m\u001b[1;33m\u001b[0m\u001b[0m\n",
      "\u001b[1;32m~\\anaconda3\\lib\\ssl.py\u001b[0m in \u001b[0;36mread\u001b[1;34m(self, len, buffer)\u001b[0m\n\u001b[0;32m   1097\u001b[0m         \u001b[1;32mtry\u001b[0m\u001b[1;33m:\u001b[0m\u001b[1;33m\u001b[0m\u001b[1;33m\u001b[0m\u001b[0m\n\u001b[0;32m   1098\u001b[0m             \u001b[1;32mif\u001b[0m \u001b[0mbuffer\u001b[0m \u001b[1;32mis\u001b[0m \u001b[1;32mnot\u001b[0m \u001b[1;32mNone\u001b[0m\u001b[1;33m:\u001b[0m\u001b[1;33m\u001b[0m\u001b[1;33m\u001b[0m\u001b[0m\n\u001b[1;32m-> 1099\u001b[1;33m                 \u001b[1;32mreturn\u001b[0m \u001b[0mself\u001b[0m\u001b[1;33m.\u001b[0m\u001b[0m_sslobj\u001b[0m\u001b[1;33m.\u001b[0m\u001b[0mread\u001b[0m\u001b[1;33m(\u001b[0m\u001b[0mlen\u001b[0m\u001b[1;33m,\u001b[0m \u001b[0mbuffer\u001b[0m\u001b[1;33m)\u001b[0m\u001b[1;33m\u001b[0m\u001b[1;33m\u001b[0m\u001b[0m\n\u001b[0m\u001b[0;32m   1100\u001b[0m             \u001b[1;32melse\u001b[0m\u001b[1;33m:\u001b[0m\u001b[1;33m\u001b[0m\u001b[1;33m\u001b[0m\u001b[0m\n\u001b[0;32m   1101\u001b[0m                 \u001b[1;32mreturn\u001b[0m \u001b[0mself\u001b[0m\u001b[1;33m.\u001b[0m\u001b[0m_sslobj\u001b[0m\u001b[1;33m.\u001b[0m\u001b[0mread\u001b[0m\u001b[1;33m(\u001b[0m\u001b[0mlen\u001b[0m\u001b[1;33m)\u001b[0m\u001b[1;33m\u001b[0m\u001b[1;33m\u001b[0m\u001b[0m\n",
      "\u001b[1;31mKeyboardInterrupt\u001b[0m: "
     ]
    }
   ],
   "source": [
    "zoo_map = folium.Map(location=[user[0], user[1]], zoom_start = 14)\n",
    "marker_dic = {'곤충' : 'yellow',\n",
    "              '양서파충류' : 'blue',\n",
    "              '저서무척추동물' : 'red',\n",
    "              '조류' : '#990085', \n",
    "              '포유류' : 'green'}\n",
    "tooltip = '나를 눌러줘!'\n",
    "\n",
    "for i in want_list:\n",
    "    # page dic 생성\n",
    "    if df_want.iloc[i]['spcs_lcnm'] not in wiki_dic.values() :\n",
    "        page_wiki = wiki.page(df_want.iloc[i]['spcs_lcnm'])\n",
    "        wiki_dic[df_want.iloc[i]['spcs_lcnm']] = page_wiki\n",
    "    else :\n",
    "        page_wiki = wiki_dic[df_want.iloc[i]['spcs_lcnm']]\n",
    "    \n",
    "    # img dic 생성\n",
    "    if page_wiki.exists() == True :\n",
    "        if (page_wiki.title not in img_dic.values()) :\n",
    "            wiki_img = get_wiki_main_image(page_wiki.title)\n",
    "            img_dic[page_wiki.title] = wiki_img\n",
    "        else : wiki_img[page_wiki.title]\n",
    "    else :\n",
    "        wiki_img = \"http://www.visioncyber.kr/rtimages/n_sub/no_detail_img.gif\"\n",
    "    \n",
    "    # 팝업창 요약설명 설정\n",
    "    if page_wiki.exists() == True : summary = page_wiki.summary.split('.')[0]\n",
    "    else : summary = df_want.iloc[i]['spcs_lcnm'] + '은(는) ' + df_want.iloc[i]['examin_realm_se_code_nm'] + '이다'\n",
    "    \n",
    "    # 팝업창 제목 추가\n",
    "    popup = '<h3>나는 <strong>' + df_want.iloc[i]['spcs_lcnm'] + '</strong>야!</h3>'\n",
    "    # 팝업창 이미지 추가\n",
    "    popup += '<img src=' + wiki_img + ' class=\"Popup-img\">'\n",
    "    # 팝업창 요약설명 추가\n",
    "    popup += '<p><h4>' + summary + '.</h4>'\n",
    "    if page_wiki.exists() == True : popup += '<b><a href=' + page_wiki.canonicalurl + '>더 알아보기</a></b></p>'\n",
    "    \n",
    "    folium.CircleMarker(location=[df_want['kr_lati'][i], df_want['kr_long'][i]], popup=popup, \n",
    "                        tooltip=tooltip, radius=4, color=marker_dic[df_want.iloc[i]['examin_realm_se_code_nm']]).add_to(zoo_map)\n",
    "zoo_map.save('map.html')\n",
    "zoo_map"
   ]
  },
  {
   "cell_type": "code",
   "execution_count": null,
   "metadata": {},
   "outputs": [],
   "source": []
  }
 ],
 "metadata": {
  "kernelspec": {
   "display_name": "Python 3",
   "language": "python",
   "name": "python3"
  },
  "language_info": {
   "codemirror_mode": {
    "name": "ipython",
    "version": 3
   },
   "file_extension": ".py",
   "mimetype": "text/x-python",
   "name": "python",
   "nbconvert_exporter": "python",
   "pygments_lexer": "ipython3",
   "version": "3.8.3"
  }
 },
 "nbformat": 4,
 "nbformat_minor": 4
}
